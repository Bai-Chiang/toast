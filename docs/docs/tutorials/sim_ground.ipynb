{
 "cells": [
  {
   "cell_type": "markdown",
   "metadata": {
    "toc-hr-collapsed": false
   },
   "source": [
    "# Tutorial: Simulated Ground Telescopes\n",
    "\n",
    "This tutorial focuses on simulating data from a ground-based telescope.  We first create a fake telescope with a synthetic focalplane located in Chile.  Then we create a synthetic observing schedule and use that to scan the sky.  Later notebooks make use of helper functions that create generic focalplanes, but in this example we use low-level functions to customize things a bit more. "
   ]
  },
  {
   "cell_type": "code",
   "execution_count": null,
   "metadata": {},
   "outputs": [],
   "source": [
    "# Optionally change logging level\n",
    "import os\n",
    "os.environ[\"TOAST_LOGLEVEL\"] = \"INFO\"\n",
    "# This is needed before importing toast, and should\n",
    "# match the value passed to the '-t' option of %toast\n",
    "os.environ[\"OMP_NUM_THREADS\"] = \"4\""
   ]
  },
  {
   "cell_type": "code",
   "execution_count": null,
   "metadata": {},
   "outputs": [],
   "source": [
    "# TOAST interactive startup\n",
    "import toast.interactive\n",
    "%load_ext toast.interactive"
   ]
  },
  {
   "cell_type": "code",
   "execution_count": null,
   "metadata": {},
   "outputs": [],
   "source": [
    "%toast -p 1 -t 4 -a"
   ]
  },
  {
   "cell_type": "code",
   "execution_count": null,
   "metadata": {},
   "outputs": [],
   "source": [
    "# Built-in modules\n",
    "import sys\n",
    "import os\n",
    "import re\n",
    "import datetime\n",
    "import shutil\n",
    "\n",
    "# External modules\n",
    "import numpy as np\n",
    "import matplotlib.pyplot as plt\n",
    "from matplotlib.image import imread\n",
    "import astropy.units as u\n",
    "from astropy.table import Row, QTable\n",
    "import healpy as hp\n",
    "\n",
    "# TOAST\n",
    "import toast\n",
    "import toast.schedule_sim_ground\n",
    "from toast.instrument_sim import plot_focalplane\n",
    "from toast.tests import helpers\n",
    "from toast.observation import default_values as defaults\n",
    "\n",
    "# Display inline plots\n",
    "%matplotlib inline\n",
    "from IPython.display import Image\n",
    "from IPython.display import display"
   ]
  },
  {
   "cell_type": "code",
   "execution_count": null,
   "metadata": {},
   "outputs": [],
   "source": [
    "# MPI communicator\n",
    "world, procs, rank = toast.mpi.get_world()\n",
    "comm = helpers.create_comm(world, single_group=True)"
   ]
  },
  {
   "cell_type": "code",
   "execution_count": null,
   "metadata": {},
   "outputs": [],
   "source": [
    "# Output directory for this tutorial\n",
    "topdir = \"out_sim_ground\"\n",
    "if rank == 0 and os.path.exists(topdir):\n",
    "    shutil.rmtree(topdir)\n",
    "out_dir = helpers.create_outdir(world, topdir=topdir)"
   ]
  },
  {
   "cell_type": "markdown",
   "metadata": {},
   "source": [
    "## Helper Functions\n",
    "\n",
    "Here are a few functions we will use later in the notebook."
   ]
  },
  {
   "cell_type": "code",
   "execution_count": null,
   "metadata": {},
   "outputs": [],
   "source": [
    "def plot_dets(obs, d_start=0, d_end=None, s_start=0, s_end=None, view=None, signal=defaults.det_data):\n",
    "    \"\"\"Plot some detectors in an observation.\n",
    "    \n",
    "    Args:\n",
    "        obs (Observation):  The observation\n",
    "        d_start (int):  The starting local detector index to plot.\n",
    "        d_end (int): The local detector index limit to plot.\n",
    "        s_start (int):  The starting sample index to plot.\n",
    "        s_end (int):  The sample index limit to plot\n",
    "        view (str):  The optional intervals to overplot.\n",
    "        signal (str):  The detdata name to plot.\n",
    "    \"\"\"\n",
    "    slc = slice(s_start, s_end, 1)\n",
    "\n",
    "    fig = plt.figure(dpi=100, figsize=(18, 12))\n",
    "    ax = fig.add_subplot(2, 1, 1, aspect=\"auto\")\n",
    "    plt.gca().set_prop_cycle(None)\n",
    "    for idet, det in enumerate(obs.select_local_detectors(flagmask=defaults.det_mask_nonscience)):\n",
    "        if idet < d_start:\n",
    "            continue\n",
    "        if d_end is not None and idet >= d_end:\n",
    "            continue\n",
    "        ax.plot(\n",
    "            obs.shared[defaults.times].data[slc], \n",
    "            obs.detdata[signal][det, slc], \n",
    "            '-',\n",
    "            label=det,\n",
    "        )\n",
    "    ax.legend(loc=\"best\")\n",
    "    \n",
    "    ax = fig.add_subplot(2, 1, 2, aspect=\"auto\")\n",
    "    \n",
    "    if view is not None:\n",
    "        inview = np.zeros_like(obs.shared[defaults.shared_flags].data[slc])\n",
    "        begin = [x.first for x in obs.intervals[view]]\n",
    "        end = [x.last+1 for x in obs.intervals[view]]\n",
    "        for b, e in zip(begin, end):\n",
    "            inview[b:e] = 1\n",
    "        ax.plot(\n",
    "            obs.shared[defaults.times].data[slc], \n",
    "            inview, \n",
    "            '-',\n",
    "            color=\"red\",\n",
    "            label=f\"View {view}\",\n",
    "        )\n",
    "    ax.plot(\n",
    "        obs.shared[defaults.times].data[slc], \n",
    "        obs.shared[defaults.shared_flags].data[slc], \n",
    "        '-',\n",
    "        color=\"black\",\n",
    "        label=\"Shared Flags\",\n",
    "    )\n",
    "    \n",
    "    plt.gca().set_prop_cycle(None)\n",
    "    for idet, det in enumerate(obs.select_local_detectors(flagmask=defaults.det_mask_nonscience)):\n",
    "        if idet < d_start:\n",
    "            continue\n",
    "        if d_end is not None and idet >= d_end:\n",
    "            continue\n",
    "        ax.plot(\n",
    "            obs.shared[defaults.times].data[slc], \n",
    "            obs.detdata[defaults.det_flags][det, slc], \n",
    "            '-',\n",
    "            label=det,\n",
    "        )\n",
    "    ax.legend(loc=\"best\")    \n",
    "    plt.show()\n",
    "    plt.close()"
   ]
  },
  {
   "cell_type": "code",
   "execution_count": null,
   "metadata": {},
   "outputs": [],
   "source": [
    "def plot_scanning(obs, s_start=0, s_end=None):\n",
    "    slc = slice(s_start, s_end, 1)\n",
    "    times = obs.shared[defaults.times].data[slc]\n",
    "    az = obs.shared[defaults.azimuth].data[slc]\n",
    "    el = obs.shared[defaults.elevation].data[slc]\n",
    "    \n",
    "    fig = plt.figure(dpi=100, figsize=(18, 12))\n",
    "    ax = fig.add_subplot(2, 1, 1, aspect=\"auto\")\n",
    "    ax.plot(times, az, label=\"Azimuth\")\n",
    "    ax.set_xlabel(\"Posix Timestamps\")\n",
    "    ax.set_ylabel(\"Azimuth\")\n",
    "    ax = fig.add_subplot(2, 1, 2, aspect=\"auto\")\n",
    "    ax.plot(times, el, label=\"Elevation\")\n",
    "    ax.set_xlabel(\"Posix Timestamps\")\n",
    "    ax.set_ylabel(\"Elevation\")\n",
    "    plt.show()\n",
    "    plt.close()"
   ]
  },
  {
   "cell_type": "code",
   "execution_count": null,
   "metadata": {},
   "outputs": [],
   "source": [
    "def plot_noise_model(model, model_fit=None, d_start=0, d_end=None):\n",
    "    fig = plt.figure(dpi=100, figsize=(18, 12))\n",
    "    ax = fig.add_subplot(1, 1, 1)\n",
    "    plt.gca().set_prop_cycle(None)\n",
    "    plot_max = 0\n",
    "    plot_min = 1e100\n",
    "    for idet, det in enumerate(model.detectors):\n",
    "        if idet < d_start:\n",
    "            continue\n",
    "        if d_end is not None and idet >= d_end:\n",
    "            continue\n",
    "        freq = model.freq(det).to_value(u.Hz)\n",
    "        psd = model.psd(det).to_value(u.K**2 * u.s)\n",
    "        plot_min = min(plot_min, np.amin(psd))\n",
    "        plot_max = max(plot_max, np.amax(psd))\n",
    "        ax.loglog(\n",
    "            freq,\n",
    "            psd,\n",
    "            label=det,\n",
    "        )\n",
    "    if model_fit is not None:\n",
    "        # Also plot the fit\n",
    "        plt.gca().set_prop_cycle(None)\n",
    "        for idet, det in enumerate(model.detectors):\n",
    "            if idet < d_start:\n",
    "                continue\n",
    "            if d_end is not None and idet >= d_end:\n",
    "                continue\n",
    "            freq = model_fit.freq(det)\n",
    "            psd = model_fit.psd(det)\n",
    "            ax.loglog(\n",
    "                freq.to_value(u.Hz),\n",
    "                psd.to_value(u.K**2 * u.s),\n",
    "                label=f\"{det} Fit\",\n",
    "            )\n",
    "    freq = model.freq(model.detectors[0])\n",
    "    \n",
    "    ax.set_xlim(freq[0].to_value(u.Hz), freq[-1].to_value(u.Hz))\n",
    "    ax.set_ylim(0.9 * plot_min, 1.1 * plot_max)\n",
    "    ax.set_xlabel(\"Frequency [Hz]\")\n",
    "    ax.set_ylabel(\"PSD [K$^2$ / Hz]\")\n",
    "    ax.legend(loc=\"best\")\n",
    "    plt.show()\n",
    "    plt.close()"
   ]
  },
  {
   "cell_type": "markdown",
   "metadata": {},
   "source": [
    "# Fake Telescope\n",
    "\n",
    "We create just a small number of detectors here since we are running this notebook serially.  If you use more processes you can increase the number of detectors on the focalplane.  First create a `Site` for telescope:"
   ]
  },
  {
   "cell_type": "code",
   "execution_count": null,
   "metadata": {},
   "outputs": [],
   "source": [
    "site = toast.instrument.GroundSite(\"atacama\", \"-22:57:30\", \"-67:47:10\", 5200.0 * u.meter)"
   ]
  },
  {
   "cell_type": "markdown",
   "metadata": {},
   "source": [
    "Now we will create a focalplane consisting of three rhombus wafers packed into a hexagon."
   ]
  },
  {
   "cell_type": "code",
   "execution_count": null,
   "metadata": {},
   "outputs": [],
   "source": [
    "fp_fwhm = 30.0 * u.arcmin\n",
    "\n",
    "focalplane = toast.instrument_sim.fake_rhombihex_focalplane(\n",
    "    n_pix_rhombus=16,\n",
    "    width=8.0 * u.degree,\n",
    "    gap=0 * u.radian,\n",
    "    sample_rate=10.0 * u.Hz,\n",
    "    epsilon=0.0,\n",
    "    fwhm=fp_fwhm,\n",
    "    bandcenter=150 * u.GHz,\n",
    "    bandwidth=20 * u.GHz,\n",
    "    psd_net=300.0 * u.uK * np.sqrt(1 * u.second),\n",
    "    psd_fmin=1.0e-5 * u.Hz,\n",
    "    psd_alpha=1.0,\n",
    "    psd_fknee=0.05 * u.Hz,\n",
    "    fwhm_sigma=0.0 * u.arcmin,\n",
    "    bandcenter_sigma=0 * u.GHz,\n",
    "    bandwidth_sigma=0 * u.GHz,\n",
    "    random_seed=123456,\n",
    ")\n",
    "fov = focalplane.field_of_view"
   ]
  },
  {
   "cell_type": "code",
   "execution_count": null,
   "metadata": {},
   "outputs": [],
   "source": [
    "# Look at the table of detector properties\n",
    "focalplane.detector_data"
   ]
  },
  {
   "cell_type": "code",
   "execution_count": null,
   "metadata": {},
   "outputs": [],
   "source": [
    "# Make a plot of this focalplane layout.\n",
    "detpolcol = {\n",
    "    x: \"red\" if re.match(r\".*A-.*\", x) is not None else \"blue\" for x in focalplane.detectors\n",
    "}\n",
    "\n",
    "if rank == 0:\n",
    "    plot_focalplane(\n",
    "        focalplane=focalplane,\n",
    "        width=1.2 * fov,\n",
    "        height=1.2 * fov,\n",
    "        show_labels=True,\n",
    "        pol_color=detpolcol\n",
    "    )"
   ]
  },
  {
   "cell_type": "markdown",
   "metadata": {},
   "source": [
    "## Atmospheric Monitoring\n",
    "\n",
    "In order to provide a channel to monitor the atmospheric water content, we add a single detector at the boresight whose bandpass is centered on the water line at 183GHz.  We make a copy of the previous detector table and construct a new focalplane."
   ]
  },
  {
   "cell_type": "code",
   "execution_count": null,
   "metadata": {},
   "outputs": [],
   "source": [
    "det_props = QTable(focalplane.detector_data)"
   ]
  },
  {
   "cell_type": "code",
   "execution_count": null,
   "metadata": {},
   "outputs": [],
   "source": [
    "# Copy the last row into a dictionary\n",
    "atm_det = {x: det_props[-1][x] for x in det_props.colnames}\n",
    "print(atm_det)"
   ]
  },
  {
   "cell_type": "code",
   "execution_count": null,
   "metadata": {},
   "outputs": [],
   "source": [
    "# Modify the atmosphere detector properties\n",
    "atm_det[\"name\"] = \"ATM0\"\n",
    "atm_det[\"quat\"] = np.array([0.0, 0.0, 0.0, 1.0])\n",
    "atm_det[\"bandcenter\"] = 183.0 * u.GHz\n",
    "atm_det[\"bandwidth\"] = 20.0 * u.GHz\n",
    "det_props.add_row(atm_det)"
   ]
  },
  {
   "cell_type": "code",
   "execution_count": null,
   "metadata": {},
   "outputs": [],
   "source": [
    "# Build a new focalplane with the updated table\n",
    "full_fp = toast.instrument.Focalplane(\n",
    "    detector_data=det_props,\n",
    "    sample_rate=focalplane.sample_rate,\n",
    ")"
   ]
  },
  {
   "cell_type": "code",
   "execution_count": null,
   "metadata": {},
   "outputs": [],
   "source": [
    "detpolcol = {\n",
    "    x: \"red\" if re.match(r\".*A-.*\", x) is not None else \"blue\" for x in full_fp.detectors\n",
    "}\n",
    "\n",
    "if rank == 0:\n",
    "    plot_focalplane(\n",
    "        focalplane=full_fp,\n",
    "        width=1.2 * fov,\n",
    "        height=1.2 * fov,\n",
    "        show_labels=True,\n",
    "        pol_color=detpolcol\n",
    "    )"
   ]
  },
  {
   "cell_type": "markdown",
   "metadata": {},
   "source": [
    "We can check the top-hat bandpasses in this Focalplane.  We just look at the first normal detector and the last detector which is the atmosphere monitor."
   ]
  },
  {
   "cell_type": "code",
   "execution_count": null,
   "metadata": {},
   "outputs": [],
   "source": [
    "if rank == 0:\n",
    "    fig = plt.figure(dpi=100, figsize=(12, 6))\n",
    "    ax = fig.add_subplot(1, 1, 1, aspect=\"auto\")\n",
    "    for det in [full_fp.detectors[0], full_fp.detectors[-1]]:\n",
    "        freq = full_fp.bandpass.freqs(det)\n",
    "        bpass = full_fp.bandpass.bandpass(det)\n",
    "        ax.plot(\n",
    "            freq, \n",
    "            bpass, \n",
    "            '-',\n",
    "            label=det,\n",
    "        )\n",
    "    ax.set_xlim(100e9, 250e9)\n",
    "    ax.legend(loc=\"best\")\n",
    "    plt.show()\n",
    "    plt.close()"
   ]
  },
  {
   "cell_type": "markdown",
   "metadata": {},
   "source": [
    "Finally we build our telescope with this updated focalplane and Site"
   ]
  },
  {
   "cell_type": "code",
   "execution_count": null,
   "metadata": {},
   "outputs": [],
   "source": [
    "telescope = toast.instrument.Telescope(\"telescope\", focalplane=full_fp, site=site)"
   ]
  },
  {
   "cell_type": "markdown",
   "metadata": {},
   "source": [
    "# Simulated Observing Schedule\n",
    "\n",
    "Now that we have a telescope, we create an observing schedule."
   ]
  },
  {
   "cell_type": "code",
   "execution_count": null,
   "metadata": {},
   "outputs": [],
   "source": [
    "schedule = None\n",
    "\n",
    "if rank == 0:\n",
    "    tdir = out_dir\n",
    "    if tdir is None:\n",
    "        tdir = tempfile.mkdtemp()\n",
    "\n",
    "    sch_file = os.path.join(tdir, \"ground_schedule.txt\")\n",
    "    toast.schedule_sim_ground.run_scheduler(\n",
    "        opts=[\n",
    "            \"--site-name\",\n",
    "            telescope.site.name,\n",
    "            \"--telescope\",\n",
    "            telescope.name,\n",
    "            \"--site-lon\",\n",
    "            \"{}\".format(telescope.site.earthloc.lon.to_value(u.degree)),\n",
    "            \"--site-lat\",\n",
    "            \"{}\".format(telescope.site.earthloc.lat.to_value(u.degree)),\n",
    "            \"--site-alt\",\n",
    "            \"{}\".format(telescope.site.earthloc.height.to_value(u.meter)),\n",
    "            \"--patch\",\n",
    "            \"bossn,1,-180,15,-140,2\",\n",
    "            \"--start\",\n",
    "            \"2025-02-21 00:00:00\",\n",
    "            \"--stop\",\n",
    "            \"2025-02-23 00:00:00\",\n",
    "            \"--out\",\n",
    "            sch_file,\n",
    "            \"--equalize-time\",\n",
    "            \"--patch-coord\",\n",
    "            \"C\",\n",
    "            \"--el-min\",\n",
    "            \"40\",\n",
    "            \"--el-max\",\n",
    "            \"70\",\n",
    "            \"--sun-el-max\",\n",
    "            \"90\",\n",
    "            \"--sun-avoidance-angle\",\n",
    "            \"30\",\n",
    "            \"--moon-avoidance-angle\",\n",
    "            \"0\",\n",
    "            \"--ces-max-time\",\n",
    "            \"36000\",\n",
    "            \"--fp-radius\",\n",
    "            \"0\",\n",
    "            \"--boresight-angle-step\",\n",
    "            \"180\",\n",
    "            \"--boresight-angle-time\",\n",
    "            \"1440\",\n",
    "            \"--time-step-s\",\n",
    "            \"600\",\n",
    "            \"--lock-az-range\",\n",
    "            \"--elevations\",\n",
    "            \"40,50,60,70\",\n",
    "        ]\n",
    "    )\n",
    "    schedule = toast.schedule.GroundSchedule()\n",
    "    schedule.read(sch_file)\n",
    "    if out_dir is None:\n",
    "        shutil.rmtree(tdir)\n",
    "if world is not None:\n",
    "    schedule = world.bcast(schedule, root=0)"
   ]
  },
  {
   "cell_type": "markdown",
   "metadata": {},
   "source": [
    "# Simulated Observing\n",
    "\n",
    "Now we use this schedule to create some fake observing with our telescope.  This will generate the data containers with boresight pointing, but the detector data is still zero."
   ]
  },
  {
   "cell_type": "code",
   "execution_count": null,
   "metadata": {},
   "outputs": [],
   "source": [
    "# Start with an empty data container\n",
    "data = toast.Data(comm)"
   ]
  },
  {
   "cell_type": "code",
   "execution_count": null,
   "metadata": {},
   "outputs": [],
   "source": [
    "# Populate observations according to the schedule and telescope.\n",
    "sim_ground = toast.ops.SimGround(\n",
    "    telescope=telescope,\n",
    "    weather=\"atacama\",\n",
    "    detset_key=\"pixel\",\n",
    "    schedule=schedule,\n",
    "    median_weather=True, # no longer random weather, but less chance of an outlier\n",
    ")\n",
    "sim_ground.apply(data)"
   ]
  },
  {
   "cell_type": "code",
   "execution_count": null,
   "metadata": {},
   "outputs": [],
   "source": [
    "# Print out the result.\n",
    "data.info()"
   ]
  },
  {
   "cell_type": "code",
   "execution_count": null,
   "metadata": {},
   "outputs": [],
   "source": [
    "if rank == 0:\n",
    "    plot_scanning(data.obs[0], s_start=0, s_end=2000)"
   ]
  },
  {
   "cell_type": "markdown",
   "metadata": {},
   "source": [
    "# Simulated Detector Data\n",
    "\n",
    "Now we will simulate several components of our detector data.  Before doing that, we set up some operators that compute our detector pointing and response on the sky (the \"pointing matrix\").  In TOAST, the pointing matrix is split into the pixelization of detector samples and the Stokes weights (response to I/Q/U/V on the sky)."
   ]
  },
  {
   "cell_type": "markdown",
   "metadata": {},
   "source": [
    "## Detector Pointing\n",
    "\n",
    "There are 3 types of operators that define the detector pointing.  The first is the geometric offset from the boresight coordinate frame to the detector coordinate frame.  In the simplest case this is just a quaternion for each detector (stored in the focalplane table).  Once the geometric detector pointing is computed, the pixelization on the sky is specified by a separate operator.  Finally, the response of the detector to incoming Stokes parameters is given by another operator."
   ]
  },
  {
   "cell_type": "code",
   "execution_count": null,
   "metadata": {},
   "outputs": [],
   "source": [
    "# Geometric detector pointing from boresight frame to detector frame.  We define these\n",
    "# for both horizontal and equatorial coordinates, since we need the detector pointing\n",
    "# in horizontal coordinates for atmosphere simulation below.\n",
    "\n",
    "det_point_azel = toast.ops.PointingDetectorSimple(\n",
    "    boresight=defaults.boresight_azel,\n",
    "    quats=\"quats_azel\"\n",
    ")\n",
    "det_point_radec = toast.ops.PointingDetectorSimple(\n",
    "    boresight=defaults.boresight_radec,\n",
    "    quats=\"quats_radec\"\n",
    ")"
   ]
  },
  {
   "cell_type": "code",
   "execution_count": null,
   "metadata": {},
   "outputs": [],
   "source": [
    "# Pixelization.  Choose a coarse pixelization for this exercise since there is\n",
    "# a small patch and only a few detectors.\n",
    "\n",
    "nside = 256\n",
    "pixels_radec = toast.ops.PixelsHealpix(\n",
    "    nside=nside,\n",
    "    nest=True,\n",
    "    detector_pointing=det_point_radec,\n",
    ")"
   ]
  },
  {
   "cell_type": "code",
   "execution_count": null,
   "metadata": {},
   "outputs": [],
   "source": [
    "# Stokes weights.  This just uses focalplane table properties to treat each detector\n",
    "# as a linear polarizer with possibly some cross-polar response.\n",
    "\n",
    "weights_radec = toast.ops.StokesWeights(\n",
    "    mode=\"IQU\",\n",
    "    detector_pointing=det_point_radec,\n",
    ")"
   ]
  },
  {
   "cell_type": "markdown",
   "metadata": {},
   "source": [
    "### Pixel Distribution\n",
    "\n",
    "When working with sky data for both simulations and mapmaking, each process only stores pixels which are \"hit\" by the local detectors on that process.  Computing this \"pixel distribution\" requires passing through the pointing.  Normally this is done without saving the detector pointing (for memory considerations).  In this notebook, we just compute the full detector pointing once at the beginning and save it."
   ]
  },
  {
   "cell_type": "code",
   "execution_count": null,
   "metadata": {},
   "outputs": [],
   "source": [
    "pixels_radec.apply(data)\n",
    "weights_radec.apply(data)"
   ]
  },
  {
   "cell_type": "code",
   "execution_count": null,
   "metadata": {},
   "outputs": [],
   "source": [
    "pix_dist = toast.ops.BuildPixelDistribution(\n",
    "    pixel_dist=\"pixel_dist\",\n",
    "    pixel_pointing=pixels_radec,\n",
    ")\n",
    "pix_dist.apply(data)"
   ]
  },
  {
   "cell_type": "markdown",
   "metadata": {},
   "source": [
    "## Synthetic Sky\n",
    "\n",
    "In order to have some kind of sky signal in our data, we generate a fake sky and scan that into timestreams."
   ]
  },
  {
   "cell_type": "code",
   "execution_count": null,
   "metadata": {},
   "outputs": [],
   "source": [
    "input_map_file = os.path.join(out_dir, \"fake_sky.fits\")\n",
    "if rank == 0:\n",
    "    c_ell = helpers.fetch_nominal_cmb_cls(\n",
    "        out_file=os.path.join(os.path.dirname(out_dir), \"cl_nominal.txt\")\n",
    "    )\n",
    "    input_map_ring = hp.synfast(c_ell, nside, fwhm=fp_fwhm.to_value(u.radian))\n",
    "    input_map = 1.0e-6 * hp.reorder(input_map_ring, inp=\"RING\", out=\"NEST\")\n",
    "    hp.write_map(input_map_file, input_map, nest=True)\n",
    "    hp.mollview(input_map[0], nest=True, min=-0.01, max=0.01)\n",
    "    hp.gnomview(\n",
    "        input_map[0], nest=True, min=-0.01, max=0.01, rot=(200.156, 8.466), reso=4.0, xsize=1600\n",
    "    )\n",
    "    hp.mollview(input_map[1], nest=True, min=-0.0002, max=0.0002)\n",
    "    hp.gnomview(\n",
    "        input_map[1], nest=True, min=-0.0002, max=0.0002, rot=(200.156, 8.466), reso=4.0, xsize=1600\n",
    "    )\n",
    "    hp.mollview(input_map[2], nest=True, min=-0.0002, max=0.0002)\n",
    "    hp.gnomview(\n",
    "        input_map[2], nest=True, min=-0.0002, max=0.0002, rot=(200.156, 8.466), reso=4.0, xsize=1600\n",
    "    )"
   ]
  },
  {
   "cell_type": "code",
   "execution_count": null,
   "metadata": {},
   "outputs": [],
   "source": [
    "# Scan the map\n",
    "scan_map = toast.ops.ScanHealpixMap(\n",
    "    file=input_map_file,\n",
    "    pixel_pointing=pixels_radec,\n",
    "    stokes_weights=weights_radec,\n",
    ")\n",
    "scan_map.apply(data)"
   ]
  },
  {
   "cell_type": "code",
   "execution_count": null,
   "metadata": {},
   "outputs": [],
   "source": [
    "# Plot the last few detectors\n",
    "if rank == 0:\n",
    "    plot_dets(data.obs[0], d_start=90, d_end=None, s_start=0, s_end=2000, view=\"scanning\")"
   ]
  },
  {
   "cell_type": "markdown",
   "metadata": {},
   "source": [
    "## Instrumental Noise\n",
    "\n",
    "We create a trivial noise model using nominal parameters from the focalplane table and then use this noise model to simulate timestreams."
   ]
  },
  {
   "cell_type": "code",
   "execution_count": null,
   "metadata": {},
   "outputs": [],
   "source": [
    "nominal_noise = toast.ops.DefaultNoiseModel()\n",
    "nominal_noise.apply(data)"
   ]
  },
  {
   "cell_type": "code",
   "execution_count": null,
   "metadata": {},
   "outputs": [],
   "source": [
    "# Plot this nominal noise model for the last few detectors\n",
    "if rank == 0:\n",
    "    plot_noise_model(\n",
    "        data.obs[0][nominal_noise.noise_model],\n",
    "        model_fit=None,\n",
    "        d_start=50,\n",
    "        d_end=None\n",
    "    )"
   ]
  },
  {
   "cell_type": "code",
   "execution_count": null,
   "metadata": {},
   "outputs": [],
   "source": [
    "sim_noise = toast.ops.SimNoise(\n",
    "    noise_model=nominal_noise.noise_model,\n",
    ")\n",
    "sim_noise.apply(data)"
   ]
  },
  {
   "cell_type": "code",
   "execution_count": null,
   "metadata": {},
   "outputs": [],
   "source": [
    "# Plot the last few detectors\n",
    "if rank == 0:\n",
    "    plot_dets(data.obs[0], d_start=90, d_end=None, s_start=0, s_end=2000, view=\"scanning\")"
   ]
  },
  {
   "cell_type": "markdown",
   "metadata": {},
   "source": [
    "We can see that the \"atmospheric monitor\" detector does not look much different here, since we have only simulated detector noise."
   ]
  },
  {
   "cell_type": "markdown",
   "metadata": {},
   "source": [
    "## Ground Pickup\n",
    "\n",
    "The ground and environment around the telescope may produce different loading as a function of azimuth as the telescope scans.  This kind of signal is one of several possible \"scan synchronous signals\"."
   ]
  },
  {
   "cell_type": "code",
   "execution_count": null,
   "metadata": {},
   "outputs": [],
   "source": [
    "ground_pickup = toast.ops.SimScanSynchronousSignal(\n",
    "    detector_pointing=det_point_azel,\n",
    "    scale=0.001 * u.K,\n",
    ")\n",
    "ground_pickup.apply(data)"
   ]
  },
  {
   "cell_type": "code",
   "execution_count": null,
   "metadata": {},
   "outputs": [],
   "source": [
    "# Plot the last few detectors\n",
    "if rank == 0:\n",
    "    plot_dets(data.obs[0], d_start=90, d_end=None, s_start=0, s_end=2000, view=\"scanning\")"
   ]
  },
  {
   "cell_type": "markdown",
   "metadata": {},
   "source": [
    "## Simulated Atmosphere\n",
    "\n",
    "Now we will simulate a 3D atmospheric slab moving in front of the telescope and integrate each detector along the line of site and over its bandpass.  In order to do this, we have to define an operator which knows how to compute detector pointing in Az/El coordinates.  This just uses the boresight pointing and the detector quaternion rotations from the boresight to compute detector pointing."
   ]
  },
  {
   "cell_type": "code",
   "execution_count": null,
   "metadata": {},
   "outputs": [],
   "source": [
    "sim_atm = toast.ops.SimAtmosphere(\n",
    "    detector_pointing=det_point_azel,\n",
    "    add_loading=True,\n",
    "    lmin_center=0.001 * u.m,\n",
    "    lmin_sigma=0.0001 * u.m,\n",
    "    lmax_center=1.0 * u.m,\n",
    "    lmax_sigma=0.1 * u.m,\n",
    "    xstep=20 * u.m,\n",
    "    ystep=20 * u.m,\n",
    "    zstep=20 * u.m,\n",
    "    zmax=200 * u.m,\n",
    "    gain=4e-5,\n",
    "    wind_dist=1000 * u.m,\n",
    ")\n",
    "sim_atm.apply(data)"
   ]
  },
  {
   "cell_type": "code",
   "execution_count": null,
   "metadata": {},
   "outputs": [],
   "source": [
    "# Plot the last few normal detectors\n",
    "if rank == 0:\n",
    "    plot_dets(data.obs[0], d_start=90, d_end=96, s_start=0, s_end=2000, view=\"scanning\")"
   ]
  },
  {
   "cell_type": "code",
   "execution_count": null,
   "metadata": {},
   "outputs": [],
   "source": [
    "# Plot the atmosphere monitor\n",
    "if rank == 0:\n",
    "    plot_dets(data.obs[0], d_start=96, d_end=None, s_start=0, s_end=2000, view=\"scanning\")"
   ]
  },
  {
   "cell_type": "markdown",
   "metadata": {},
   "source": [
    "Here we see that the atmospheric monitor has substantially more power from the 183GHz water line."
   ]
  },
  {
   "cell_type": "markdown",
   "metadata": {},
   "source": [
    "# Map Making\n",
    "\n",
    "First we want to flag the atmosphere monitor channel so that it is not considered \"science\" data for mapmaking purposes."
   ]
  },
  {
   "cell_type": "code",
   "execution_count": null,
   "metadata": {},
   "outputs": [],
   "source": [
    "for ob in data.obs:\n",
    "    ob.update_local_detector_flags({\"ATM0\": defaults.det_mask_processing})"
   ]
  },
  {
   "cell_type": "markdown",
   "metadata": {},
   "source": [
    "## Filtering\n",
    "\n",
    "Since we are using the template regression / destriping mapmaker below, we want to do minimal filtering of the timestreams."
   ]
  },
  {
   "cell_type": "code",
   "execution_count": null,
   "metadata": {},
   "outputs": [],
   "source": [
    "toast.ops.CommonModeFilter(\n",
    "    redistribute=False,\n",
    "    regress=True,\n",
    ").apply(data)"
   ]
  },
  {
   "cell_type": "markdown",
   "metadata": {},
   "source": [
    "## Noise Estimation\n",
    "\n",
    "The original noise estimate (used above to simulate instrument noise) only captures the nominal readout and detector noise sources.  For map making we will treat the timestream as noise-dominated and estimate the noise model directly from the timestream.  First, create a raw, binned estimate of the PSD in each detector:"
   ]
  },
  {
   "cell_type": "code",
   "execution_count": null,
   "metadata": {},
   "outputs": [],
   "source": [
    "# Estimate noise\n",
    "estim = toast.ops.NoiseEstim(\n",
    "    out_model=\"noise_estimate\",\n",
    "    lagmax=100,\n",
    "    nbin_psd=32,\n",
    "    nsum=1,\n",
    ")\n",
    "estim.apply(data)"
   ]
  },
  {
   "cell_type": "markdown",
   "metadata": {},
   "source": [
    "This raw estimate can produce undesired effects if we use it directly in mapmaking.  Instead, we first fit an analytic 1/f noise model to these."
   ]
  },
  {
   "cell_type": "code",
   "execution_count": null,
   "metadata": {},
   "outputs": [],
   "source": [
    "# Compute a 1/f fit to this\n",
    "noise_fitter = toast.ops.FitNoiseModel(\n",
    "    noise_model=estim.out_model,\n",
    "    out_model=\"fit_noise_model\",\n",
    ")\n",
    "noise_fitter.apply(data)"
   ]
  },
  {
   "cell_type": "code",
   "execution_count": null,
   "metadata": {},
   "outputs": [],
   "source": [
    "# Plot this nominal noise model for the last few detectors\n",
    "if rank == 0:\n",
    "    plot_noise_model(\n",
    "        data.obs[0][estim.out_model],\n",
    "        model_fit=data.obs[0][noise_fitter.out_model],\n",
    "        d_start=90,\n",
    "        d_end=None\n",
    "    )"
   ]
  },
  {
   "cell_type": "markdown",
   "metadata": {},
   "source": [
    "## Binning Operator\n",
    "\n",
    "A central piece of the mapmaking is the \"binning\" of timestreams into maps.  This process accumulates the \"noise weighted map\" and then multiplies this by the diagonal pixel covariance:\n",
    "\n",
    "$$\n",
    "\\text{Binned Map} = \\left(P^T N^{-1} P\\right)^{-1} P^T N^{-1} d\n",
    "$$\n",
    "\n",
    "You can see from this that in addition to the input timestream data we need the estimated noise model and the pointing matrix."
   ]
  },
  {
   "cell_type": "code",
   "execution_count": null,
   "metadata": {},
   "outputs": [],
   "source": [
    "# Set up binning operator for solving\n",
    "binner = toast.ops.BinMap(\n",
    "    pixel_dist=pix_dist.pixel_dist,\n",
    "    pixel_pointing=pixels_radec,\n",
    "    stokes_weights=weights_radec,\n",
    "    noise_model=noise_fitter.out_model,\n",
    ")"
   ]
  },
  {
   "cell_type": "markdown",
   "metadata": {},
   "source": [
    "## Template Matrix\n",
    "\n",
    "The TOAST mapmaker is a \"generalized destriper\" that solves for \"template amplitudes\".  These templates represent anything in the time ordered data which is not fixed on the sky or simply white noise.  For this example, we will use 2 templates.  One to model the scan synchronous signal and one to model the 1/f noise (including the atmosphere)."
   ]
  },
  {
   "cell_type": "code",
   "execution_count": null,
   "metadata": {},
   "outputs": [],
   "source": [
    "# The Offset template models 1/f noise as a stepwise function, which\n",
    "# is the same as a \"classic\" destriper.\n",
    "\n",
    "tmpl_offset = toast.templates.Offset(\n",
    "    times=defaults.times,\n",
    "    noise_model=noise_fitter.out_model,\n",
    "    step_time=1.0 * u.second,\n",
    ")"
   ]
  },
  {
   "cell_type": "code",
   "execution_count": null,
   "metadata": {},
   "outputs": [],
   "source": [
    "# Build a template matrix with our templates.\n",
    "\n",
    "tmatrix = toast.ops.TemplateMatrix(\n",
    "    templates=[tmpl_offset],\n",
    ")"
   ]
  },
  {
   "cell_type": "markdown",
   "metadata": {},
   "source": [
    "## Making the Map\n",
    "\n",
    "Now we are ready to instantiate the mapmaker operator.  Note that if we do not specify the template matrix, then this will just produce a binned map."
   ]
  },
  {
   "cell_type": "code",
   "execution_count": null,
   "metadata": {},
   "outputs": [],
   "source": [
    "map_maker = toast.ops.MapMaker(\n",
    "    name=\"mapmaker\",\n",
    "    binning=binner,\n",
    "    template_matrix=tmatrix,\n",
    "    solve_rcond_threshold=1.0e-1,\n",
    "    map_rcond_threshold=1.0e-1,\n",
    "    iter_min=200,\n",
    "    iter_max=300,\n",
    "    write_hits=True,\n",
    "    write_map=True,\n",
    "    write_binmap=True,\n",
    "    write_cov=False,\n",
    "    write_invcov=False,\n",
    "    write_rcond=True,\n",
    "    output_dir=out_dir,\n",
    "    keep_solver_products=True, # We set this to True so we can plot solved template amplitudes later\n",
    ")\n",
    "map_maker.apply(data)"
   ]
  },
  {
   "cell_type": "markdown",
   "metadata": {},
   "source": [
    "Now plot the output maps."
   ]
  },
  {
   "cell_type": "code",
   "execution_count": null,
   "metadata": {},
   "outputs": [],
   "source": [
    "# The output filenames will be based on the name of the mapmaker operator\n",
    "out_root = os.path.join(out_dir, map_maker.name)"
   ]
  },
  {
   "cell_type": "code",
   "execution_count": null,
   "metadata": {},
   "outputs": [],
   "source": [
    "# Helper functions to plot all the maps\n",
    "\n",
    "def plot_maps(\n",
    "    root,\n",
    "    range_I=(-0.01, 0.01),\n",
    "    range_Q=(-0.0002, 0.0002),\n",
    "    range_U=(-0.0002, 0.0002),\n",
    "    max_hits=1000,\n",
    "    truth=None\n",
    "):\n",
    "    cmap = \"viridis\"\n",
    "    gnomres = 8.0\n",
    "    gnomrot = (199.5, 8.3)\n",
    "    xsize = 800\n",
    "    \n",
    "    hits_file = f\"{root}_hits.fits\"\n",
    "    rcond_file = f\"{root}_rcond.fits\"\n",
    "    binmap_file = f\"{root}_binmap.fits\"\n",
    "    map_file = f\"{root}_map.fits\"\n",
    "\n",
    "    # Load hits\n",
    "    hits = hp.read_map(hits_file, field=None, nest=True)\n",
    "    goodhits = hits > 0\n",
    "    badhits = np.logical_not(goodhits)\n",
    "\n",
    "    # Load rcond\n",
    "    rcond = hp.read_map(rcond_file, field=None, nest=True)\n",
    "    rcond[badhits] = hp.UNSEEN\n",
    "\n",
    "    # Maps\n",
    "    maps = hp.read_map(map_file, field=None, nest=True)\n",
    "    binmaps = hp.read_map(binmap_file, field=None, nest=True)\n",
    "    resid = None\n",
    "    resid_bin = None\n",
    "    if truth is not None:\n",
    "        truth_maps = hp.read_map(truth, field=None, nest=True)\n",
    "        resid = list()\n",
    "        resid_bin = list()\n",
    "        for i in range(3):\n",
    "            resid.append(np.array(maps[i]) - truth_maps[i])\n",
    "            resid_bin.append(np.array(binmaps[i]) - truth_maps[i])\n",
    "    for i in range(3):\n",
    "        maps[i][badhits] = hp.UNSEEN\n",
    "        binmaps[i][badhits] = hp.UNSEEN\n",
    "        if truth is not None:\n",
    "            truth_maps[i][badhits] = hp.UNSEEN\n",
    "            resid[i][badhits] = hp.UNSEEN\n",
    "            resid_bin[i][badhits] = hp.UNSEEN\n",
    "\n",
    "    # Plot hits and rcond\n",
    "    fig = plt.figure(dpi=100, figsize=(18, 12))\n",
    "    hp.gnomview(\n",
    "        map=hits,\n",
    "        fig=fig.number,\n",
    "        sub=(1, 2, 1),\n",
    "        rot=gnomrot,\n",
    "        xsize=xsize,\n",
    "        reso=gnomres,\n",
    "        nest=True,\n",
    "        cmap=cmap,\n",
    "        min=0,\n",
    "        max=max_hits,\n",
    "        title=\"Hits\",\n",
    "    )\n",
    "    hp.gnomview(\n",
    "        map=rcond,\n",
    "        fig=fig.number,\n",
    "        sub=(1, 2, 2),\n",
    "        rot=gnomrot,\n",
    "        xsize=xsize,\n",
    "        reso=gnomres,\n",
    "        nest=True,\n",
    "        cmap=cmap,\n",
    "        min=0,\n",
    "        max=0.5,\n",
    "        title=\"Inverse Condition Number\",\n",
    "    )\n",
    "    plt.show()\n",
    "    plt.close()\n",
    "\n",
    "    # Plot maps\n",
    "    \n",
    "    plot_cols = 2\n",
    "    if truth is not None:\n",
    "        plot_cols = 4\n",
    "    plot_rows = 3\n",
    "    fig = plt.figure(dpi=100, figsize=(18, 18))\n",
    "    counter = 1\n",
    "    for row, (stokes, rng) in enumerate([(\"I\", range_I), (\"Q\", range_Q), (\"U\", range_U)]):\n",
    "        for mps, res, name in [(maps, resid, \"Destriped\"), (binmaps, resid_bin, \"Binned\")]:\n",
    "            hp.gnomview(\n",
    "                map=mps[row],\n",
    "                fig=fig.number,\n",
    "                sub=(plot_rows, plot_cols, counter),\n",
    "                rot=gnomrot,\n",
    "                xsize=xsize,\n",
    "                reso=gnomres,\n",
    "                nest=True,\n",
    "                cmap=cmap,\n",
    "                min=rng[0],\n",
    "                max=rng[1],\n",
    "                title=f\"{name} Stokes {stokes}\",\n",
    "            )\n",
    "            counter += 1\n",
    "            if truth is not None:\n",
    "                hp.gnomview(\n",
    "                    map=res[row],\n",
    "                    fig=fig.number,\n",
    "                    sub=(plot_rows, plot_cols, counter),\n",
    "                    rot=gnomrot,\n",
    "                    xsize=xsize,\n",
    "                    reso=gnomres,\n",
    "                    nest=True,\n",
    "                    cmap=cmap,\n",
    "                    min=rng[0],\n",
    "                    max=rng[1],\n",
    "                    title=f\"{name} Stokes {stokes} Minus Input\",\n",
    "                )\n",
    "                counter += 1\n",
    "    plt.show()\n",
    "    plt.close()"
   ]
  },
  {
   "cell_type": "code",
   "execution_count": null,
   "metadata": {},
   "outputs": [],
   "source": [
    "plot_maps(out_root, truth=input_map_file)"
   ]
  },
  {
   "cell_type": "markdown",
   "metadata": {},
   "source": [
    "The solved template amplitudes will usually have degeneracies (for example, the ground pickup across one left-right scan could also be interpreted as just 1/f noise).  However, we are just concerned with capturing the degrees of freedom of the relevant non-sky signal content so that it does not contaminate the map.  This is something to keep in mind as we plot the solved template amplitudes."
   ]
  },
  {
   "cell_type": "code",
   "execution_count": null,
   "metadata": {},
   "outputs": [],
   "source": [
    "# Write solved offset amplitudes\n",
    "oamps = data[f\"{map_maker.name}_solve_amplitudes\"][tmpl_offset.name]\n",
    "oroot = os.path.join(out_dir, f\"{map_maker.name}_offset\")\n",
    "tmpl_offset.write(oamps, oroot)\n",
    "\n",
    "if rank == 0:\n",
    "    for ob in data.obs:\n",
    "        toast.templates.offset.plot(\n",
    "            f\"{oroot}_{ob.name}.h5\",\n",
    "            compare={x: ob.detdata[defaults.det_data][x, :] for x in ob.local_detectors},\n",
    "            out=f\"{oroot}_{ob.name}\",\n",
    "            xlim=(0, 1000),\n",
    "        )"
   ]
  },
  {
   "cell_type": "code",
   "execution_count": null,
   "metadata": {},
   "outputs": [],
   "source": []
  }
 ],
 "metadata": {
  "kernelspec": {
   "display_name": "Python 3 (ipykernel)",
   "language": "python",
   "name": "python3"
  },
  "language_info": {
   "codemirror_mode": {
    "name": "ipython",
    "version": 3
   },
   "file_extension": ".py",
   "mimetype": "text/x-python",
   "name": "python",
   "nbconvert_exporter": "python",
   "pygments_lexer": "ipython3",
   "version": "3.12.9"
  }
 },
 "nbformat": 4,
 "nbformat_minor": 4
}
